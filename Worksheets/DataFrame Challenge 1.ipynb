{
 "cells": [
  {
   "cell_type": "markdown",
   "metadata": {},
   "source": [
    "#DataFrame Challenge 1"
   ]
  },
  {
   "cell_type": "code",
   "execution_count": 4,
   "metadata": {
    "collapsed": false
   },
   "outputs": [
    {
     "name": "stdout",
     "output_type": "stream",
     "text": [
      "Populating the interactive namespace from numpy and matplotlib\n"
     ]
    }
   ],
   "source": [
    "%pylab inline\n",
    "import pandas as pd\n",
    "import numpy as np\n",
    "import matplotlib.pyplot as plt \n",
    "from user_agents import parse\n",
    "import re\n",
    "pd.options.mode.chained_assignment = None"
   ]
  },
  {
   "cell_type": "markdown",
   "metadata": {},
   "source": [
    "In order to extract data from the user agent strings, I recommend using the ```user_agents``` module. Some example code is pasted below.  To install:  ```pip install pyyaml ua-parser user-agents```.\n",
    "\n",
    "```python\n",
    "from user_agents import parse\n",
    "\n",
    "ua_string = 'Mozilla/5.0 (iPhone; CPU iPhone OS 5_1 like Mac OS X) AppleWebKit/534.46 (KHTML, like Gecko) Version/5.1 Mobile/9B179 Safari/7534.48.3'\n",
    "user_agent = parse(ua_string)\n",
    "\n",
    "#Accessing user agent's browser attributes\n",
    "user_agent.browser  # returns Browser(family=u'Mobile Safari', version=(5, 1), version_string='5.1')\n",
    "user_agent.browser.family  # returns 'Mobile Safari'\n",
    "user_agent.browser.version  # returns (5, 1)\n",
    "user_agent.browser.version_string   # returns '5.1'\n",
    "\n",
    "#Accessing user agent's operating system properties\n",
    "user_agent.os  # returns OperatingSystem(family=u'iOS', version=(5, 1), version_string='5.1')\n",
    "user_agent.os.family  # returns 'iOS'\n",
    "user_agent.os.version  # returns (5, 1)\n",
    "user_agent.os.version_string  # returns '5.1'\n",
    "```"
   ]
  },
  {
   "cell_type": "code",
   "execution_count": 1,
   "metadata": {
    "collapsed": false
   },
   "outputs": [],
   "source": [
    "def read_from_regex(**kwargs):\n",
    "    \"\"\"\n",
    "    Read text from an input file, apply a regex to it and store data into a DataFrame\n",
    "    Returns\n",
    "    -------\n",
    "    parsed : DataFrame\n",
    "    \"\"\"\n",
    "    pattern = kwargs.get('r')\n",
    "    columns = kwargs.get('columns')\n",
    "    \n",
    "    inputFile = open(kwargs.get('input'), 'r')\n",
    "    \n",
    "    table = []\n",
    "    for line in inputFile:\n",
    "        matchObj = re.search(pattern, line)\n",
    "        if matchObj:\n",
    "            row = {}\n",
    "            fieldCount = len(matchObj.groups())\n",
    "            if len(columns) > 0:\n",
    "                for i in range(1, fieldCount):\n",
    "                    row[columns[i]] = matchObj.group(i + 1)    \n",
    "            else:\n",
    "                for i in range(1, fieldCount):\n",
    "                    row[i] = matchObj.group(i + 1)\n",
    "            \n",
    "            table.append(row)\n",
    "    \n",
    "    return pd.DataFrame(table)\n",
    "    \n",
    "\n",
    "pattern = r'(\\d{1,3}\\.\\d{1,3}\\.\\d{1,3}\\.\\d{1,3})\\s(\\S+)\\s(\\S+)\\s\\[(\\d{2}/\\w+?/\\d{4}:\\d{2}:\\d{2}:\\d{2}\\s-\\d{4})\\]\\s\"([A-Z]+)\\s(\\S+?)\\s(\\S+)\"\\s(\\d{3})\\s(\\S+?)\\s\"(\\S+?)\"\\s\"(.+?)\"'\n",
    "columnNames = ['ipAddress', 'remoteLogname', 'username', 'dateTime', 'request', 'requestLine' , 'unk', 'responseCode', 'bytesSent', 'referrer', 'userAgent' ]\n",
    "\n"
   ]
  },
  {
   "cell_type": "code",
   "execution_count": null,
   "metadata": {
    "collapsed": true
   },
   "outputs": [],
   "source": []
  }
 ],
 "metadata": {
  "kernelspec": {
   "display_name": "Python 3",
   "language": "python",
   "name": "python3"
  },
  "language_info": {
   "codemirror_mode": {
    "name": "ipython",
    "version": 3
   },
   "file_extension": ".py",
   "mimetype": "text/x-python",
   "name": "python",
   "nbconvert_exporter": "python",
   "pygments_lexer": "ipython3",
   "version": "3.4.3"
  }
 },
 "nbformat": 4,
 "nbformat_minor": 0
}
