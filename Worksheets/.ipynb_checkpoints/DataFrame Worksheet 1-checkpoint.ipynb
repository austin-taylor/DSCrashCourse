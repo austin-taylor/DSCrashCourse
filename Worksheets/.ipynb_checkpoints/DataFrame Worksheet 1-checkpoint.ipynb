{
 "cells": [
  {
   "cell_type": "markdown",
   "metadata": {},
   "source": [
    "#DataFrame Worksheet 1"
   ]
  },
  {
   "cell_type": "code",
   "execution_count": 1,
   "metadata": {
    "collapsed": false
   },
   "outputs": [
    {
     "name": "stdout",
     "output_type": "stream",
     "text": [
      "Populating the interactive namespace from numpy and matplotlib\n"
     ]
    }
   ],
   "source": [
    "%pylab inline\n",
    "import pandas as pd\n",
    "import numpy as np\n",
    "import matplotlib.pyplot as plt \n",
    "pd.options.mode.chained_assignment = None"
   ]
  },
  {
   "cell_type": "markdown",
   "metadata": {
    "collapsed": true
   },
   "source": [
    "##Exercise 1\n",
    "In the ```/Data``` folder there is a file called ```twitter1.csv```.  Create a data frame of this data called twitterData.  We will be using this for subsequent exercises.  \n",
    "\n",
    "HINT: You probably will have to expirement with the encoding to get this to read.  A list of Python encodings is available here: https://docs.python.org/3/library/codecs.html#standard-encodings "
   ]
  },
  {
   "cell_type": "code",
   "execution_count": 5,
   "metadata": {
    "collapsed": false
   },
   "outputs": [],
   "source": []
  },
  {
   "cell_type": "markdown",
   "metadata": {},
   "source": [
    "##Exercise 2\n",
    "In the ```/Data``` folder, there is an Excel spreadsheet containing a listing for every terrorist attack since 2006.  Create a DataFrame called ```terrorData``` which we will use later. "
   ]
  },
  {
   "cell_type": "code",
   "execution_count": 9,
   "metadata": {
    "collapsed": true
   },
   "outputs": [],
   "source": []
  },
  {
   "cell_type": "markdown",
   "metadata": {},
   "source": [
    "##Exercise 3\n",
    "In the ```/Data``` folder, there is an apache log file sample called ```apache-log-sample1.txt```.  Read this data into a DataFrame using the ```read_csv()``` function.  In order to make this work, you will have to use the ```sep``` option which specifies the field delimiting character as well as the ```quotechar``` argument. "
   ]
  },
  {
   "cell_type": "code",
   "execution_count": null,
   "metadata": {
    "collapsed": true
   },
   "outputs": [],
   "source": []
  },
  {
   "cell_type": "markdown",
   "metadata": {},
   "source": [
    "##Exercise 4\n",
    "Using the ```twitterData``` DataFrame and the commands we have learned thus far and create a Series called ```tweetCounts``` which contains the user name and how many tweets each user posted.  Next, output the top 10 \"tweeters\"."
   ]
  },
  {
   "cell_type": "code",
   "execution_count": null,
   "metadata": {
    "collapsed": false
   },
   "outputs": [],
   "source": []
  },
  {
   "cell_type": "markdown",
   "metadata": {},
   "source": [
    "##Exercise 5\n",
    "Using the original twitter data set, create a second DataFrame called ```twitterSummary``` which contains the following columns:\n",
    "* Username\n",
    "* Friends \n",
    "* Followers\n",
    "\n",
    "\n",
    "Next add a column called ```ffratio``` which contains the ratio of friends to followers."
   ]
  },
  {
   "cell_type": "code",
   "execution_count": null,
   "metadata": {
    "collapsed": false
   },
   "outputs": [],
   "source": []
  },
  {
   "cell_type": "markdown",
   "metadata": {},
   "source": [
    "##Exercise 6\n",
    "Using the twitter data, find all the users with Facebook accounts and create a new column called ```FacebookID``` which contains the users' Facebook ID.  As you can see in the URL below, a user's Facebook ID can be found in the URL column, http://www.facebook.com/profile.php?id=5141860.  Extract this by using the ```str.extract``` function. Don't forget to remove all the invalid or empty IDs.  "
   ]
  },
  {
   "cell_type": "code",
   "execution_count": null,
   "metadata": {
    "collapsed": false
   },
   "outputs": [],
   "source": []
  }
 ],
 "metadata": {
  "kernelspec": {
   "display_name": "Python 3",
   "language": "python",
   "name": "python3"
  },
  "language_info": {
   "codemirror_mode": {
    "name": "ipython",
    "version": 3
   },
   "file_extension": ".py",
   "mimetype": "text/x-python",
   "name": "python",
   "nbconvert_exporter": "python",
   "pygments_lexer": "ipython3",
   "version": "3.4.3"
  }
 },
 "nbformat": 4,
 "nbformat_minor": 0
}
