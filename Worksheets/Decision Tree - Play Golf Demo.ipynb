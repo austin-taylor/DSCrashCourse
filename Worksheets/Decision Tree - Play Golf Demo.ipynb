{
 "cells": [
  {
   "cell_type": "code",
   "execution_count": 3,
   "metadata": {
    "collapsed": true
   },
   "outputs": [],
   "source": [
    "%matplotlib inline\n",
    "import sys\n",
    "import string\n",
    "import numpy as np\n",
    "import pandas as pd\n",
    "import matplotlib.pyplot as plt\n",
    "import seaborn as sns\n",
    "\n",
    "from sklearn import feature_extraction\n",
    "from sklearn import tree\n",
    "from sklearn.externals.six import StringIO  \n",
    "from IPython.core.display import Image\n",
    "import pydotplus as pydot\n"
   ]
  },
  {
   "cell_type": "code",
   "execution_count": 4,
   "metadata": {
    "collapsed": false
   },
   "outputs": [
    {
     "data": {
      "text/html": [
       "<div>\n",
       "<table border=\"1\" class=\"dataframe\">\n",
       "  <thead>\n",
       "    <tr style=\"text-align: right;\">\n",
       "      <th></th>\n",
       "      <th>Outlook</th>\n",
       "      <th>Temp</th>\n",
       "      <th>Humidity</th>\n",
       "      <th>Windy</th>\n",
       "      <th>Play_Golf</th>\n",
       "    </tr>\n",
       "  </thead>\n",
       "  <tbody>\n",
       "    <tr>\n",
       "      <th>0</th>\n",
       "      <td>Rainy</td>\n",
       "      <td>Hot</td>\n",
       "      <td>High</td>\n",
       "      <td>False</td>\n",
       "      <td>No</td>\n",
       "    </tr>\n",
       "    <tr>\n",
       "      <th>1</th>\n",
       "      <td>Rainy</td>\n",
       "      <td>Hot</td>\n",
       "      <td>High</td>\n",
       "      <td>True</td>\n",
       "      <td>No</td>\n",
       "    </tr>\n",
       "    <tr>\n",
       "      <th>2</th>\n",
       "      <td>Overcast</td>\n",
       "      <td>Hot</td>\n",
       "      <td>High</td>\n",
       "      <td>False</td>\n",
       "      <td>Yes</td>\n",
       "    </tr>\n",
       "    <tr>\n",
       "      <th>3</th>\n",
       "      <td>Sunny</td>\n",
       "      <td>Mild</td>\n",
       "      <td>High</td>\n",
       "      <td>False</td>\n",
       "      <td>Yes</td>\n",
       "    </tr>\n",
       "    <tr>\n",
       "      <th>4</th>\n",
       "      <td>Sunny</td>\n",
       "      <td>Cool</td>\n",
       "      <td>Normal</td>\n",
       "      <td>False</td>\n",
       "      <td>Yes</td>\n",
       "    </tr>\n",
       "    <tr>\n",
       "      <th>5</th>\n",
       "      <td>Sunny</td>\n",
       "      <td>Cool</td>\n",
       "      <td>Normal</td>\n",
       "      <td>True</td>\n",
       "      <td>No</td>\n",
       "    </tr>\n",
       "    <tr>\n",
       "      <th>6</th>\n",
       "      <td>Overcast</td>\n",
       "      <td>Cool</td>\n",
       "      <td>Normal</td>\n",
       "      <td>True</td>\n",
       "      <td>Yes</td>\n",
       "    </tr>\n",
       "    <tr>\n",
       "      <th>7</th>\n",
       "      <td>Rainy</td>\n",
       "      <td>Mild</td>\n",
       "      <td>High</td>\n",
       "      <td>False</td>\n",
       "      <td>No</td>\n",
       "    </tr>\n",
       "    <tr>\n",
       "      <th>8</th>\n",
       "      <td>Rainy</td>\n",
       "      <td>Cool</td>\n",
       "      <td>Normal</td>\n",
       "      <td>False</td>\n",
       "      <td>Yes</td>\n",
       "    </tr>\n",
       "    <tr>\n",
       "      <th>9</th>\n",
       "      <td>Sunny</td>\n",
       "      <td>Mild</td>\n",
       "      <td>Normal</td>\n",
       "      <td>False</td>\n",
       "      <td>Yes</td>\n",
       "    </tr>\n",
       "    <tr>\n",
       "      <th>10</th>\n",
       "      <td>Rainy</td>\n",
       "      <td>Mild</td>\n",
       "      <td>Normal</td>\n",
       "      <td>True</td>\n",
       "      <td>Yes</td>\n",
       "    </tr>\n",
       "    <tr>\n",
       "      <th>11</th>\n",
       "      <td>Overcast</td>\n",
       "      <td>Mild</td>\n",
       "      <td>High</td>\n",
       "      <td>True</td>\n",
       "      <td>Yes</td>\n",
       "    </tr>\n",
       "    <tr>\n",
       "      <th>12</th>\n",
       "      <td>Overcast</td>\n",
       "      <td>Hot</td>\n",
       "      <td>High</td>\n",
       "      <td>False</td>\n",
       "      <td>Yes</td>\n",
       "    </tr>\n",
       "    <tr>\n",
       "      <th>13</th>\n",
       "      <td>Sunny</td>\n",
       "      <td>Mild</td>\n",
       "      <td>High</td>\n",
       "      <td>True</td>\n",
       "      <td>No</td>\n",
       "    </tr>\n",
       "  </tbody>\n",
       "</table>\n",
       "</div>"
      ],
      "text/plain": [
       "     Outlook  Temp Humidity  Windy Play_Golf\n",
       "0      Rainy   Hot     High  False        No\n",
       "1      Rainy   Hot     High   True        No\n",
       "2   Overcast   Hot     High  False       Yes\n",
       "3      Sunny  Mild     High  False       Yes\n",
       "4      Sunny  Cool   Normal  False       Yes\n",
       "5      Sunny  Cool   Normal   True        No\n",
       "6   Overcast  Cool   Normal   True       Yes\n",
       "7      Rainy  Mild     High  False        No\n",
       "8      Rainy  Cool   Normal  False       Yes\n",
       "9      Sunny  Mild   Normal  False       Yes\n",
       "10     Rainy  Mild   Normal   True       Yes\n",
       "11  Overcast  Mild     High   True       Yes\n",
       "12  Overcast   Hot     High  False       Yes\n",
       "13     Sunny  Mild     High   True        No"
      ]
     },
     "execution_count": 4,
     "metadata": {},
     "output_type": "execute_result"
    }
   ],
   "source": [
    "data = pd.read_csv( 'Data/playgolf.csv')\n",
    "data"
   ]
  },
  {
   "cell_type": "code",
   "execution_count": 5,
   "metadata": {
    "collapsed": false
   },
   "outputs": [
    {
     "name": "stdout",
     "output_type": "stream",
     "text": [
      "[{'Windy': False, 'Humidity': 'High', 'Temp': 'Hot', 'Outlook': 'Rainy'}, {'Windy': True, 'Humidity': 'High', 'Temp': 'Hot', 'Outlook': 'Rainy'}, {'Windy': False, 'Humidity': 'High', 'Temp': 'Hot', 'Outlook': 'Overcast'}, {'Windy': False, 'Humidity': 'High', 'Temp': 'Mild', 'Outlook': 'Sunny'}, {'Windy': False, 'Humidity': 'Normal', 'Temp': 'Cool', 'Outlook': 'Sunny'}, {'Windy': True, 'Humidity': 'Normal', 'Temp': 'Cool', 'Outlook': 'Sunny'}, {'Windy': True, 'Humidity': 'Normal', 'Temp': 'Cool', 'Outlook': 'Overcast'}, {'Windy': False, 'Humidity': 'High', 'Temp': 'Mild', 'Outlook': 'Rainy'}, {'Windy': False, 'Humidity': 'Normal', 'Temp': 'Cool', 'Outlook': 'Rainy'}, {'Windy': False, 'Humidity': 'Normal', 'Temp': 'Mild', 'Outlook': 'Sunny'}, {'Windy': True, 'Humidity': 'Normal', 'Temp': 'Mild', 'Outlook': 'Rainy'}, {'Windy': True, 'Humidity': 'High', 'Temp': 'Mild', 'Outlook': 'Overcast'}, {'Windy': False, 'Humidity': 'High', 'Temp': 'Hot', 'Outlook': 'Overcast'}, {'Windy': True, 'Humidity': 'High', 'Temp': 'Mild', 'Outlook': 'Sunny'}]\n"
     ]
    }
   ],
   "source": [
    "cat_columns = ['Outlook', 'Temp', 'Humidity', 'Windy']\n",
    "cat_dict = data[cat_columns].to_dict(orient='records')\n",
    "print( cat_dict )\n",
    "\n"
   ]
  },
  {
   "cell_type": "code",
   "execution_count": 6,
   "metadata": {
    "collapsed": false
   },
   "outputs": [
    {
     "name": "stdout",
     "output_type": "stream",
     "text": [
      "[[ 1.  0.  0.  1.  0.  0.  1.  0.  0.]\n",
      " [ 1.  0.  0.  1.  0.  0.  1.  0.  1.]\n",
      " [ 1.  0.  1.  0.  0.  0.  1.  0.  0.]\n",
      " [ 1.  0.  0.  0.  1.  0.  0.  1.  0.]\n",
      " [ 0.  1.  0.  0.  1.  1.  0.  0.  0.]\n",
      " [ 0.  1.  0.  0.  1.  1.  0.  0.  1.]\n",
      " [ 0.  1.  1.  0.  0.  1.  0.  0.  1.]\n",
      " [ 1.  0.  0.  1.  0.  0.  0.  1.  0.]\n",
      " [ 0.  1.  0.  1.  0.  1.  0.  0.  0.]\n",
      " [ 0.  1.  0.  0.  1.  0.  0.  1.  0.]\n",
      " [ 0.  1.  0.  1.  0.  0.  0.  1.  1.]\n",
      " [ 1.  0.  1.  0.  0.  0.  0.  1.  1.]\n",
      " [ 1.  0.  1.  0.  0.  0.  1.  0.  0.]\n",
      " [ 1.  0.  0.  0.  1.  0.  0.  1.  1.]]\n"
     ]
    }
   ],
   "source": [
    "\n",
    "vec = feature_extraction.DictVectorizer()\n",
    "cat_vector = vec.fit_transform(cat_dict).toarray()\n",
    "\n",
    "print( cat_vector )"
   ]
  },
  {
   "cell_type": "code",
   "execution_count": 7,
   "metadata": {
    "collapsed": false
   },
   "outputs": [
    {
     "name": "stdout",
     "output_type": "stream",
     "text": [
      "    Humidity=High  Humidity=Normal  Outlook=Overcast  Outlook=Rainy  \\\n",
      "0               1                0                 0              1   \n",
      "1               1                0                 0              1   \n",
      "2               1                0                 1              0   \n",
      "3               1                0                 0              0   \n",
      "4               0                1                 0              0   \n",
      "5               0                1                 0              0   \n",
      "6               0                1                 1              0   \n",
      "7               1                0                 0              1   \n",
      "8               0                1                 0              1   \n",
      "9               0                1                 0              0   \n",
      "10              0                1                 0              1   \n",
      "11              1                0                 1              0   \n",
      "12              1                0                 1              0   \n",
      "13              1                0                 0              0   \n",
      "\n",
      "    Outlook=Sunny  Temp=Cool  Temp=Hot  Temp=Mild  Windy  \n",
      "0               0          0         1          0      0  \n",
      "1               0          0         1          0      1  \n",
      "2               0          0         1          0      0  \n",
      "3               1          0         0          1      0  \n",
      "4               1          1         0          0      0  \n",
      "5               1          1         0          0      1  \n",
      "6               0          1         0          0      1  \n",
      "7               0          0         0          1      0  \n",
      "8               0          1         0          0      0  \n",
      "9               1          0         0          1      0  \n",
      "10              0          0         0          1      1  \n",
      "11              0          0         0          1      1  \n",
      "12              0          0         1          0      0  \n",
      "13              1          0         0          1      1  \n"
     ]
    }
   ],
   "source": [
    "df_vector = pd.DataFrame(cat_vector)\n",
    "vector_columns = vec.get_feature_names()\n",
    "df_vector.columns = vector_columns\n",
    "df_vector.index = data.index\n",
    "\n",
    "print( df_vector )\n"
   ]
  },
  {
   "cell_type": "code",
   "execution_count": 8,
   "metadata": {
    "collapsed": false
   },
   "outputs": [
    {
     "data": {
      "text/html": [
       "<div>\n",
       "<table border=\"1\" class=\"dataframe\">\n",
       "  <thead>\n",
       "    <tr style=\"text-align: right;\">\n",
       "      <th></th>\n",
       "      <th>Play_Golf</th>\n",
       "      <th>Humidity=High</th>\n",
       "      <th>Humidity=Normal</th>\n",
       "      <th>Outlook=Overcast</th>\n",
       "      <th>Outlook=Rainy</th>\n",
       "      <th>Outlook=Sunny</th>\n",
       "      <th>Temp=Cool</th>\n",
       "      <th>Temp=Hot</th>\n",
       "      <th>Temp=Mild</th>\n",
       "      <th>Windy</th>\n",
       "    </tr>\n",
       "  </thead>\n",
       "  <tbody>\n",
       "    <tr>\n",
       "      <th>0</th>\n",
       "      <td>No</td>\n",
       "      <td>1</td>\n",
       "      <td>0</td>\n",
       "      <td>0</td>\n",
       "      <td>1</td>\n",
       "      <td>0</td>\n",
       "      <td>0</td>\n",
       "      <td>1</td>\n",
       "      <td>0</td>\n",
       "      <td>0</td>\n",
       "    </tr>\n",
       "    <tr>\n",
       "      <th>1</th>\n",
       "      <td>No</td>\n",
       "      <td>1</td>\n",
       "      <td>0</td>\n",
       "      <td>0</td>\n",
       "      <td>1</td>\n",
       "      <td>0</td>\n",
       "      <td>0</td>\n",
       "      <td>1</td>\n",
       "      <td>0</td>\n",
       "      <td>1</td>\n",
       "    </tr>\n",
       "    <tr>\n",
       "      <th>2</th>\n",
       "      <td>Yes</td>\n",
       "      <td>1</td>\n",
       "      <td>0</td>\n",
       "      <td>1</td>\n",
       "      <td>0</td>\n",
       "      <td>0</td>\n",
       "      <td>0</td>\n",
       "      <td>1</td>\n",
       "      <td>0</td>\n",
       "      <td>0</td>\n",
       "    </tr>\n",
       "    <tr>\n",
       "      <th>3</th>\n",
       "      <td>Yes</td>\n",
       "      <td>1</td>\n",
       "      <td>0</td>\n",
       "      <td>0</td>\n",
       "      <td>0</td>\n",
       "      <td>1</td>\n",
       "      <td>0</td>\n",
       "      <td>0</td>\n",
       "      <td>1</td>\n",
       "      <td>0</td>\n",
       "    </tr>\n",
       "    <tr>\n",
       "      <th>4</th>\n",
       "      <td>Yes</td>\n",
       "      <td>0</td>\n",
       "      <td>1</td>\n",
       "      <td>0</td>\n",
       "      <td>0</td>\n",
       "      <td>1</td>\n",
       "      <td>1</td>\n",
       "      <td>0</td>\n",
       "      <td>0</td>\n",
       "      <td>0</td>\n",
       "    </tr>\n",
       "  </tbody>\n",
       "</table>\n",
       "</div>"
      ],
      "text/plain": [
       "  Play_Golf  Humidity=High  Humidity=Normal  Outlook=Overcast  Outlook=Rainy  \\\n",
       "0        No              1                0                 0              1   \n",
       "1        No              1                0                 0              1   \n",
       "2       Yes              1                0                 1              0   \n",
       "3       Yes              1                0                 0              0   \n",
       "4       Yes              0                1                 0              0   \n",
       "\n",
       "   Outlook=Sunny  Temp=Cool  Temp=Hot  Temp=Mild  Windy  \n",
       "0              0          0         1          0      0  \n",
       "1              0          0         1          0      1  \n",
       "2              0          0         1          0      0  \n",
       "3              1          0         0          1      0  \n",
       "4              1          1         0          0      0  "
      ]
     },
     "execution_count": 8,
     "metadata": {},
     "output_type": "execute_result"
    }
   ],
   "source": [
    "data = data.drop(cat_columns, axis=1)\n",
    "data = data.join(df_vector)\n",
    "data.head()"
   ]
  },
  {
   "cell_type": "code",
   "execution_count": 9,
   "metadata": {
    "collapsed": false
   },
   "outputs": [
    {
     "data": {
      "text/plain": [
       "1    9\n",
       "0    5\n",
       "dtype: int64"
      ]
     },
     "execution_count": 9,
     "metadata": {},
     "output_type": "execute_result"
    }
   ],
   "source": [
    "\n",
    "# Assign an ID to the models\n",
    "data.loc[data.Play_Golf == 'No','decision'] = 0\n",
    "data.loc[data.Play_Golf == 'Yes','decision'] = 1\n",
    "data.decision.value_counts()"
   ]
  },
  {
   "cell_type": "code",
   "execution_count": 10,
   "metadata": {
    "collapsed": false
   },
   "outputs": [
    {
     "data": {
      "text/html": [
       "<div>\n",
       "<table border=\"1\" class=\"dataframe\">\n",
       "  <thead>\n",
       "    <tr style=\"text-align: right;\">\n",
       "      <th></th>\n",
       "      <th>Humidity=High</th>\n",
       "      <th>Humidity=Normal</th>\n",
       "      <th>Outlook=Overcast</th>\n",
       "      <th>Outlook=Rainy</th>\n",
       "      <th>Outlook=Sunny</th>\n",
       "      <th>Temp=Cool</th>\n",
       "      <th>Temp=Hot</th>\n",
       "      <th>Temp=Mild</th>\n",
       "      <th>Windy</th>\n",
       "      <th>decision</th>\n",
       "    </tr>\n",
       "  </thead>\n",
       "  <tbody>\n",
       "    <tr>\n",
       "      <th>0</th>\n",
       "      <td>1</td>\n",
       "      <td>0</td>\n",
       "      <td>0</td>\n",
       "      <td>1</td>\n",
       "      <td>0</td>\n",
       "      <td>0</td>\n",
       "      <td>1</td>\n",
       "      <td>0</td>\n",
       "      <td>0</td>\n",
       "      <td>0</td>\n",
       "    </tr>\n",
       "    <tr>\n",
       "      <th>1</th>\n",
       "      <td>1</td>\n",
       "      <td>0</td>\n",
       "      <td>0</td>\n",
       "      <td>1</td>\n",
       "      <td>0</td>\n",
       "      <td>0</td>\n",
       "      <td>1</td>\n",
       "      <td>0</td>\n",
       "      <td>1</td>\n",
       "      <td>0</td>\n",
       "    </tr>\n",
       "    <tr>\n",
       "      <th>2</th>\n",
       "      <td>1</td>\n",
       "      <td>0</td>\n",
       "      <td>1</td>\n",
       "      <td>0</td>\n",
       "      <td>0</td>\n",
       "      <td>0</td>\n",
       "      <td>1</td>\n",
       "      <td>0</td>\n",
       "      <td>0</td>\n",
       "      <td>1</td>\n",
       "    </tr>\n",
       "    <tr>\n",
       "      <th>3</th>\n",
       "      <td>1</td>\n",
       "      <td>0</td>\n",
       "      <td>0</td>\n",
       "      <td>0</td>\n",
       "      <td>1</td>\n",
       "      <td>0</td>\n",
       "      <td>0</td>\n",
       "      <td>1</td>\n",
       "      <td>0</td>\n",
       "      <td>1</td>\n",
       "    </tr>\n",
       "    <tr>\n",
       "      <th>4</th>\n",
       "      <td>0</td>\n",
       "      <td>1</td>\n",
       "      <td>0</td>\n",
       "      <td>0</td>\n",
       "      <td>1</td>\n",
       "      <td>1</td>\n",
       "      <td>0</td>\n",
       "      <td>0</td>\n",
       "      <td>0</td>\n",
       "      <td>1</td>\n",
       "    </tr>\n",
       "  </tbody>\n",
       "</table>\n",
       "</div>"
      ],
      "text/plain": [
       "   Humidity=High  Humidity=Normal  Outlook=Overcast  Outlook=Rainy  \\\n",
       "0              1                0                 0              1   \n",
       "1              1                0                 0              1   \n",
       "2              1                0                 1              0   \n",
       "3              1                0                 0              0   \n",
       "4              0                1                 0              0   \n",
       "\n",
       "   Outlook=Sunny  Temp=Cool  Temp=Hot  Temp=Mild  Windy  decision  \n",
       "0              0          0         1          0      0         0  \n",
       "1              0          0         1          0      1         0  \n",
       "2              0          0         1          0      0         1  \n",
       "3              1          0         0          1      0         1  \n",
       "4              1          1         0          0      0         1  "
      ]
     },
     "execution_count": 10,
     "metadata": {},
     "output_type": "execute_result"
    }
   ],
   "source": [
    "# Split the data set into features and labels\n",
    "features = data.drop(['Play_Golf'], axis=1)\n",
    "labels = data.Play_Golf\n",
    "\n",
    "features.head()\n"
   ]
  },
  {
   "cell_type": "code",
   "execution_count": 13,
   "metadata": {
    "collapsed": false
   },
   "outputs": [
    {
     "data": {
      "text/html": [
       "<div>\n",
       "<table border=\"1\" class=\"dataframe\">\n",
       "  <thead>\n",
       "    <tr style=\"text-align: right;\">\n",
       "      <th></th>\n",
       "      <th>Humidity=High</th>\n",
       "      <th>Humidity=Normal</th>\n",
       "      <th>Outlook=Overcast</th>\n",
       "      <th>Outlook=Rainy</th>\n",
       "      <th>Outlook=Sunny</th>\n",
       "      <th>Temp=Cool</th>\n",
       "      <th>Temp=Hot</th>\n",
       "      <th>Temp=Mild</th>\n",
       "      <th>Windy</th>\n",
       "      <th>decision</th>\n",
       "    </tr>\n",
       "  </thead>\n",
       "  <tbody>\n",
       "    <tr>\n",
       "      <th>13</th>\n",
       "      <td>1</td>\n",
       "      <td>0</td>\n",
       "      <td>0</td>\n",
       "      <td>0</td>\n",
       "      <td>1</td>\n",
       "      <td>0</td>\n",
       "      <td>0</td>\n",
       "      <td>1</td>\n",
       "      <td>1</td>\n",
       "      <td>0</td>\n",
       "    </tr>\n",
       "  </tbody>\n",
       "</table>\n",
       "</div>"
      ],
      "text/plain": [
       "    Humidity=High  Humidity=Normal  Outlook=Overcast  Outlook=Rainy  \\\n",
       "13              1                0                 0              0   \n",
       "\n",
       "    Outlook=Sunny  Temp=Cool  Temp=Hot  Temp=Mild  Windy  decision  \n",
       "13              1          0         0          1      1         0  "
      ]
     },
     "execution_count": 13,
     "metadata": {},
     "output_type": "execute_result"
    }
   ],
   "source": [
    "test_features = features[-1:]\n",
    "test_label = labels[-1:]\n",
    "\n",
    "test_features"
   ]
  },
  {
   "cell_type": "code",
   "execution_count": 14,
   "metadata": {
    "collapsed": false
   },
   "outputs": [
    {
     "data": {
      "text/plain": [
       "DecisionTreeClassifier(class_weight=None, criterion='entropy', max_depth=None,\n",
       "            max_features=None, max_leaf_nodes=None, min_samples_leaf=1,\n",
       "            min_samples_split=2, min_weight_fraction_leaf=0.0,\n",
       "            random_state=None, splitter='best')"
      ]
     },
     "execution_count": 14,
     "metadata": {},
     "output_type": "execute_result"
    }
   ],
   "source": [
    "# Train the decision tree based on the entropy criterion\n",
    "clf = tree.DecisionTreeClassifier(criterion='entropy')\n",
    "clf = clf.fit(features[:-1], labels[:-1])\n",
    "clf"
   ]
  },
  {
   "cell_type": "code",
   "execution_count": 15,
   "metadata": {
    "collapsed": false
   },
   "outputs": [
    {
     "name": "stdout",
     "output_type": "stream",
     "text": [
      "                  13\n",
      "Humidity=High      1\n",
      "Humidity=Normal    0\n",
      "Outlook=Overcast   0\n",
      "Outlook=Rainy      0\n",
      "Outlook=Sunny      1\n",
      "Temp=Cool          0\n",
      "Temp=Hot           0\n",
      "Temp=Mild          1\n",
      "Windy              1\n",
      "decision           0\n",
      "Predicted class: ['No']\n",
      "Accurate prediction? True\n"
     ]
    }
   ],
   "source": [
    "# Make a prediction with test data\n",
    "pred = clf.predict(test_features)\n",
    "print(features[-1:].T)\n",
    "print('Predicted class:', pred)\n",
    "print('Accurate prediction?', pred[0] == test_label.values[0])"
   ]
  },
  {
   "cell_type": "code",
   "execution_count": 16,
   "metadata": {
    "collapsed": false,
    "scrolled": true
   },
   "outputs": [
    {
     "data": {
      "text/html": [
       "<div>\n",
       "<table border=\"1\" class=\"dataframe\">\n",
       "  <thead>\n",
       "    <tr style=\"text-align: right;\">\n",
       "      <th></th>\n",
       "      <th>Humidity=High</th>\n",
       "      <th>Humidity=Normal</th>\n",
       "      <th>Outlook=Overcast</th>\n",
       "      <th>Outlook=Rainy</th>\n",
       "      <th>Outlook=Sunny</th>\n",
       "      <th>Temp=Cool</th>\n",
       "      <th>Temp=Hot</th>\n",
       "      <th>Temp=Mild</th>\n",
       "      <th>Windy</th>\n",
       "      <th>decision</th>\n",
       "    </tr>\n",
       "  </thead>\n",
       "  <tbody>\n",
       "    <tr>\n",
       "      <th>13</th>\n",
       "      <td>1</td>\n",
       "      <td>0</td>\n",
       "      <td>0</td>\n",
       "      <td>0</td>\n",
       "      <td>1</td>\n",
       "      <td>0</td>\n",
       "      <td>0</td>\n",
       "      <td>1</td>\n",
       "      <td>1</td>\n",
       "      <td>0</td>\n",
       "    </tr>\n",
       "  </tbody>\n",
       "</table>\n",
       "</div>"
      ],
      "text/plain": [
       "    Humidity=High  Humidity=Normal  Outlook=Overcast  Outlook=Rainy  \\\n",
       "13              1                0                 0              0   \n",
       "\n",
       "    Outlook=Sunny  Temp=Cool  Temp=Hot  Temp=Mild  Windy  decision  \n",
       "13              1          0         0          1      1         0  "
      ]
     },
     "execution_count": 16,
     "metadata": {},
     "output_type": "execute_result"
    }
   ],
   "source": [
    "test_features"
   ]
  },
  {
   "cell_type": "code",
   "execution_count": 22,
   "metadata": {
    "collapsed": false
   },
   "outputs": [
    {
     "data": {
      "image/png": "[encoded data removed]",
      "text/plain": [
       "<IPython.core.display.Image object>"
      ]
     },
     "execution_count": 22,
     "metadata": {},
     "output_type": "execute_result"
    }
   ],
   "source": [
    "# Visualize the decision tree\n",
    "dot_data = StringIO() \n",
    "tree.export_graphviz(clf, out_file=dot_data, feature_names=features.columns) \n",
    "graph = pydot.graph_from_dot_data(dot_data.getvalue()) \n",
    "Image(graph.create_png())"
   ]
  },
  {
   "cell_type": "code",
   "execution_count": 18,
   "metadata": {
    "collapsed": false
   },
   "outputs": [
    {
     "name": "stdout",
     "output_type": "stream",
     "text": [
      "                  13\n",
      "Humidity=High      1\n",
      "Humidity=Normal    0\n",
      "Outlook=Overcast   0\n",
      "Outlook=Rainy      0\n",
      "Outlook=Sunny      1\n",
      "Temp=Cool          0\n",
      "Temp=Hot           0\n",
      "Temp=Mild          1\n",
      "Windy              1\n",
      "decision           0\n",
      "Predicted class: ['Yes']\n",
      "Accurate prediction? True\n"
     ]
    }
   ],
   "source": [
    "test_features = features[-4:-3]\n",
    "test_label = labels[-4:-3]\n",
    "pred = clf.predict(test_features)\n",
    "print(features[-1:].T)\n",
    "print('Predicted class:', pred)\n",
    "print('Accurate prediction?', pred[0] == test_label.values[0])\n"
   ]
  },
  {
   "cell_type": "code",
   "execution_count": 20,
   "metadata": {
    "collapsed": false
   },
   "outputs": [
    {
     "name": "stdout",
     "output_type": "stream",
     "text": [
      "1.0\n"
     ]
    }
   ],
   "source": [
    "from sklearn import metrics\n",
    "\n",
    "print( metrics.accuracy_score( pred, y_train_pred))\n"
   ]
  }
 ],
 "metadata": {
  "kernelspec": {
   "display_name": "Python 3",
   "language": "python",
   "name": "python3"
  },
  "language_info": {
   "codemirror_mode": {
    "name": "ipython",
    "version": 3
   },
   "file_extension": ".py",
   "mimetype": "text/x-python",
   "name": "python",
   "nbconvert_exporter": "python",
   "pygments_lexer": "ipython3",
   "version": "3.4.3"
  }
 },
 "nbformat": 4,
 "nbformat_minor": 0
}
